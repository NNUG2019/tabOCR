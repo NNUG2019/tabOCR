{
  "nbformat": 4,
  "nbformat_minor": 0,
  "metadata": {
    "colab": {
      "name": "stary_zbior2_Sukces.ipynb",
      "provenance": [],
      "private_outputs": true,
      "collapsed_sections": [],
      "machine_shape": "hm"
    },
    "kernelspec": {
      "name": "python3",
      "display_name": "Python 3"
    },
    "accelerator": "GPU"
  },
  "cells": [
    {
      "cell_type": "code",
      "metadata": {
        "id": "FuDa2xnt0kxk",
        "colab_type": "code",
        "colab": {}
      },
      "source": [
        "!pip install -U tensorflow"
      ],
      "execution_count": 0,
      "outputs": []
    },
    {
      "cell_type": "code",
      "metadata": {
        "id": "073R4EXOqGZk",
        "colab_type": "code",
        "colab": {}
      },
      "source": [
        "from google.colab import files\n",
        "import zipfile\n",
        "import io\n",
        "import tensorflow as tf\n",
        "import numpy as np\n",
        "from tensorflow import keras\n",
        "import matplotlib.pyplot as plt\n",
        "import os\n",
        "import tensorflow_datasets as tfds\n",
        "from shutil import copyfile\n",
        "\n",
        "from keras.preprocessing.image import ImageDataGenerator, load_img, img_to_array, array_to_img"
      ],
      "execution_count": 0,
      "outputs": []
    },
    {
      "cell_type": "code",
      "metadata": {
        "id": "VgAluOGoj-xr",
        "colab_type": "code",
        "colab": {}
      },
      "source": [
        "chk = os.listdir('.')\n",
        "print(chk)"
      ],
      "execution_count": 0,
      "outputs": []
    },
    {
      "cell_type": "code",
      "metadata": {
        "id": "dBkWsegyks_y",
        "colab_type": "code",
        "colab": {}
      },
      "source": [
        "!rm 'test_subjects3.zip'"
      ],
      "execution_count": 0,
      "outputs": []
    },
    {
      "cell_type": "code",
      "metadata": {
        "id": "qlMmoZ-PY9hw",
        "colab_type": "code",
        "colab": {}
      },
      "source": [
        "uploaded = files.upload()"
      ],
      "execution_count": 0,
      "outputs": []
    },
    {
      "cell_type": "code",
      "metadata": {
        "id": "OgGQOc1eW-Hf",
        "colab_type": "code",
        "colab": {}
      },
      "source": [
        "zpf = zipfile.ZipFile(\"test_subjects3.zip\")\n",
        "zpf.extractall()\n",
        "zpf.close()"
      ],
      "execution_count": 0,
      "outputs": []
    },
    {
      "cell_type": "code",
      "metadata": {
        "id": "MnOLEF0ai6TB",
        "colab_type": "code",
        "colab": {}
      },
      "source": [
        "!mkdir a\n",
        "!mkdir b\n",
        "!mkdir c\n",
        "!mkdir a/images\n",
        "!mkdir b/images\n",
        "!mkdir c/images"
      ],
      "execution_count": 0,
      "outputs": []
    },
    {
      "cell_type": "code",
      "metadata": {
        "id": "RIzSsfgeloje",
        "colab_type": "code",
        "colab": {}
      },
      "source": [
        "!rm -r dataset"
      ],
      "execution_count": 0,
      "outputs": []
    },
    {
      "cell_type": "code",
      "metadata": {
        "id": "-chIj0L5lDCF",
        "colab_type": "code",
        "colab": {}
      },
      "source": [
        "print(os.listdir('test_subjects3'))"
      ],
      "execution_count": 0,
      "outputs": []
    },
    {
      "cell_type": "code",
      "metadata": {
        "id": "oBlRcQHHi-2-",
        "colab_type": "code",
        "colab": {}
      },
      "source": [
        "files = os.listdir('test_subjects3')\n",
        "for f in files:\n",
        "  cmn = './test_subjects3/'\n",
        "  if f[-1] == 'g':\n",
        "    if f[0] == 'a':\n",
        "      copyfile(cmn + f, './a/images/' + f[1:])\n",
        "    if f[0] == 'b':\n",
        "      copyfile(cmn + f, './b/images/' + f[1:])\n",
        "    if f[0] == 'c':\n",
        "      copyfile(cmn + f, './c/images/' + f[1:])"
      ],
      "execution_count": 0,
      "outputs": []
    },
    {
      "cell_type": "code",
      "metadata": {
        "id": "Kfne6c6nnyDf",
        "colab_type": "code",
        "colab": {}
      },
      "source": [
        "print(os.listdir('./a/images'))"
      ],
      "execution_count": 0,
      "outputs": []
    },
    {
      "cell_type": "code",
      "metadata": {
        "id": "cPmlmZxmoGff",
        "colab_type": "code",
        "colab": {}
      },
      "source": [
        "table_datagen = ImageDataGenerator(\n",
        "        rescale=1./255,\n",
        "        fill_mode='constant',\n",
        "        cval=0)\n",
        "col_mask_datagen = ImageDataGenerator(\n",
        "        rescale=1./255,\n",
        "        fill_mode='constant',\n",
        "        cval=0)\n",
        "cell_mask_datagen = ImageDataGenerator(\n",
        "        rescale=1./255,\n",
        "        fill_mode='constant',\n",
        "        cval=0)"
      ],
      "execution_count": 0,
      "outputs": []
    },
    {
      "cell_type": "code",
      "metadata": {
        "id": "_Q0KvwwycDz_",
        "colab_type": "code",
        "colab": {}
      },
      "source": [
        "seed=1\n",
        "table_generator = table_datagen.flow_from_directory('./a', target_size=(331, 701), class_mode=None, batch_size=30, seed=seed)\n",
        "col_mask_generator = col_mask_datagen.flow_from_directory('./b', target_size=(331, 701), class_mode=None, batch_size=30, seed=seed)\n",
        "cell_mask_generator = cell_mask_datagen.flow_from_directory('./c', target_size=(331, 701), class_mode=None, batch_size=30, seed=seed)"
      ],
      "execution_count": 0,
      "outputs": []
    },
    {
      "cell_type": "code",
      "metadata": {
        "id": "SwoXJ7fbR-uu",
        "colab_type": "code",
        "colab": {}
      },
      "source": [
        "#Funkcja z internetu\n",
        "def new_generator(a,b):\n",
        "  while True:\n",
        "    a1 = a.next()\n",
        "    b1 = b.next()\n",
        "    yield(a1, b1)"
      ],
      "execution_count": 0,
      "outputs": []
    },
    {
      "cell_type": "code",
      "metadata": {
        "id": "hN0U26Yij90X",
        "colab_type": "code",
        "colab": {}
      },
      "source": [
        "col_train_generator = new_generator(table_generator, col_mask_generator)\n",
        "cell_train_generator = new_generator(table_generator, cell_mask_generator)"
      ],
      "execution_count": 0,
      "outputs": []
    },
    {
      "cell_type": "code",
      "metadata": {
        "id": "9sUKkKqLQert",
        "colab_type": "code",
        "colab": {}
      },
      "source": [
        "print(col_train_generator)"
      ],
      "execution_count": 0,
      "outputs": []
    },
    {
      "cell_type": "code",
      "metadata": {
        "id": "a9zmIitVeBMd",
        "colab_type": "code",
        "colab": {}
      },
      "source": [
        "tab = table_generator.next()[0]\n",
        "print(type(tab))\n",
        "print(len(tab))\n",
        "print(tab)"
      ],
      "execution_count": 0,
      "outputs": []
    },
    {
      "cell_type": "code",
      "metadata": {
        "id": "efxllYtFbIyU",
        "colab_type": "code",
        "colab": {}
      },
      "source": [
        "tab = col_mask_generator.next()[0]\n",
        "print(type(tab))\n",
        "print(len(tab))\n",
        "print(tab)"
      ],
      "execution_count": 0,
      "outputs": []
    },
    {
      "cell_type": "code",
      "metadata": {
        "id": "HP47bdlwiiTS",
        "colab_type": "code",
        "colab": {}
      },
      "source": [
        "#Sprawdzenie transpozycji\n",
        "arr = np.array([\n",
        "       [[1, 1, 1], [2, 2, 2]],\n",
        "       [[3, 3, 3], [4, 4, 4]],\n",
        "       [[5, 5, 5], [6, 6, 6]]\n",
        "])\n",
        "print(arr)\n",
        "T = keras.layers.Permute((2, 1, 3), input_shape=(3, 2, 3))\n",
        "print(T(np.array([arr])))\n",
        "#O kurwa jest dobrze :o"
      ],
      "execution_count": 0,
      "outputs": []
    },
    {
      "cell_type": "code",
      "metadata": {
        "id": "bZq6i6FIkFNL",
        "colab_type": "code",
        "colab": {}
      },
      "source": [
        "#Sprawdzenie reshapea\n",
        "arr = np.array([\n",
        "       [[1, 1, 1], [2, 2, 2]],\n",
        "       [[3, 3, 3], [4, 4, 4]],\n",
        "       [[5, 5, 5], [6, 6, 6]]\n",
        "])\n",
        "print(arr)\n",
        "T = keras.layers.Permute((2, 1, 3), input_shape=(3, 2, 3))\n",
        "P = keras.layers.Reshape((2, 9))\n",
        "w1 = P(T(np.array([arr])))\n",
        "print(w1)\n",
        "P2 = keras.layers.Reshape((2, 3, 3))\n",
        "w2 = P2(w1)\n",
        "print(w2)\n",
        "#O kurwa jest dobrze :o"
      ],
      "execution_count": 0,
      "outputs": []
    },
    {
      "cell_type": "code",
      "metadata": {
        "id": "VeTNCqOZuycd",
        "colab_type": "code",
        "colab": {}
      },
      "source": [
        "col_model = keras.Sequential([\n",
        "  keras.layers.Permute((2, 1, 3), input_shape=(331, 701, 3)), #Transpozycja obrazka.\n",
        "  keras.layers.Reshape((701, 993)), #Pozbycie sie kolorow.\n",
        "  keras.layers.Dense(101, activation='sigmoid'), #Zmniejszenie wysokosci obrazka.\n",
        "  keras.layers.Dense(11, activation='sigmoid'), #Zmniejszenie wysokosci obrazka.\n",
        "  keras.layers.Reshape((701, 11, 1)), #Dodanie kanalu bo warstwa konwolucyjna chce.\n",
        "  keras.layers.Convolution2D(filters=1, kernel_size=(102, 11), input_shape=(701, 74, 1)), #Przejscie w poziomie.\n",
        "  keras.layers.Reshape((600, 1)),  #Wywalenie niepotrzebnego wymiaru.\n",
        "  keras.layers.Convolution1D(filters=1, kernel_size=11), #Przyblizenie konca kolumn. Moze rekurencja?\n",
        "  keras.layers.Reshape([590]), #Splaszczenie.\n",
        "  keras.layers.Dense(701, activation='hard_sigmoid'), #Lokalizacja kolumn i przywrócenie orginalnej szerokosci.\n",
        "  keras.layers.Reshape((701, 1)), #Dodanie wymiaru.\n",
        "  keras.layers.Dense(993, activation='linear'), #Odtworzenie wysokosci.\n",
        "  keras.layers.Reshape((701, 331, 3)), #Przywrócenie kanałow.\n",
        "  keras.layers.Permute((2, 1, 3), input_shape=(701, 331, 3)) #Ponowna transpozycja.\n",
        "])"
      ],
      "execution_count": 0,
      "outputs": []
    },
    {
      "cell_type": "code",
      "metadata": {
        "id": "to3Eze3SSaAZ",
        "colab_type": "code",
        "colab": {}
      },
      "source": [
        "col_model.compile(loss='mae', optimizer='adam')"
      ],
      "execution_count": 0,
      "outputs": []
    },
    {
      "cell_type": "code",
      "metadata": {
        "id": "WwK4NOAEubJC",
        "colab_type": "code",
        "colab": {}
      },
      "source": [
        "his = col_model.fit_generator(\n",
        "    col_train_generator,\n",
        "    use_multiprocessing=True,\n",
        "    steps_per_epoch=30,\n",
        "    epochs=20,\n",
        "    validation_data=col_train_generator,\n",
        "    validation_steps=30)"
      ],
      "execution_count": 0,
      "outputs": []
    },
    {
      "cell_type": "code",
      "metadata": {
        "id": "uY4qy45jsp6U",
        "colab_type": "code",
        "colab": {}
      },
      "source": [
        "tab = table_generator.next()[0]"
      ],
      "execution_count": 0,
      "outputs": []
    },
    {
      "cell_type": "code",
      "metadata": {
        "id": "rmX-1S0yptLz",
        "colab_type": "code",
        "colab": {}
      },
      "source": [
        "array_to_img(tab)"
      ],
      "execution_count": 0,
      "outputs": []
    },
    {
      "cell_type": "code",
      "metadata": {
        "id": "btiQDmx7qVUq",
        "colab_type": "code",
        "colab": {}
      },
      "source": [
        "prd = col_model.predict(np.array([tab]))"
      ],
      "execution_count": 0,
      "outputs": []
    },
    {
      "cell_type": "code",
      "metadata": {
        "id": "B9vC8KcqINPz",
        "colab_type": "code",
        "colab": {}
      },
      "source": [
        "print(prd[0])"
      ],
      "execution_count": 0,
      "outputs": []
    },
    {
      "cell_type": "code",
      "metadata": {
        "id": "J_uK_2u8qwiq",
        "colab_type": "code",
        "colab": {}
      },
      "source": [
        "array_to_img((prd[0])) #Siec generuje poziome paski... Czyli coś skopalaem z tymi transpozycjami. Teraz poszukam co dokladnie i dodam detekcje\n",
        "#faktycznej tabelki."
      ],
      "execution_count": 0,
      "outputs": []
    }
  ]
}