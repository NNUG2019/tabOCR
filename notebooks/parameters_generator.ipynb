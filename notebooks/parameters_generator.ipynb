{
 "cells": [
  {
   "cell_type": "code",
   "execution_count": 1,
   "metadata": {},
   "outputs": [],
   "source": [
    "import numpy as np\n",
    "from openpyxl.styles import Border, Side\n",
    "from openpyxl import Workbook\n",
    "from random import choice, choices, randint, random"
   ]
  },
  {
   "cell_type": "code",
   "execution_count": 2,
   "metadata": {},
   "outputs": [],
   "source": [
    "COLUMNS_NUMBER = np.arange(2,11,1)\n",
    "ROWS_NUMBER = np.arange(2,37,1)\n",
    "COLUMNS_TYPE = [\"string\", \"number\", \"mixed\"]\n",
    "FONT_SIZE = np.arange(9,19,1)\n",
    "FONT_NAME = [\"Arial\", \"Book Antiqua\", \"Calibri\", \"Cambria\",\n",
    "             \"Garamond\", \"Georgia\", \"Helvetica\", \"Times New Roman\"]\n",
    "LINE_STYLE = ['medium', 'thick', 'thin']\n",
    "LINE_STYLE_HEADER = ['double', 'medium', 'thick', 'thin', 'dashed', 'mediumDashed']\n",
    "IS_BORDER = [True, False]\n",
    "IS_PARTIAL_BORDER = [True, False]\n",
    "IS_DIFFERENT_HEADER = [True, False]"
   ]
  },
  {
   "cell_type": "code",
   "execution_count": 3,
   "metadata": {},
   "outputs": [],
   "source": [
    "WORD_TYPE = [str.lower, str.upper, str.title]\n",
    "NUMBER_TYPE = [int, float]\n",
    "COLUMN_TYPE = [\"string\", \"number\"]\n",
    "IS_CONTENT_FIXED = [True, False]\n",
    "MIN_COLUMN_WIDTH = 7\n",
    "MAX_COLUMN_WIDTH = 29\n",
    "MIN_ROW_HEIGHT = 4\n",
    "MAX_ROW_HEIGHT = 8\n",
    "MIN_WORD_LENGTH = 3\n",
    "MAX_WORD_LENGTH = 10\n",
    "FONT_SIZE_WIDTH = 1\n",
    "ONE_LETTER_WIDTH = 3\n",
    "IMG_SHAPE = (2030, 2030)"
   ]
  },
  {
   "cell_type": "code",
   "execution_count": 4,
   "metadata": {},
   "outputs": [],
   "source": [
    "def generate_table_params():\n",
    "    return {\"columns_number\": choice(COLUMNS_NUMBER), \n",
    "            \"rows_number\": choice(ROWS_NUMBER),\n",
    "            \"columns_type\": choice(COLUMNS_TYPE),\n",
    "            \"font_size\": choice(FONT_SIZE),\n",
    "            \"font_name\": choice(FONT_NAME),\n",
    "            \"line_style\": choice(LINE_STYLE),\n",
    "            \"is_different_header\": choice(IS_DIFFERENT_HEADER),\n",
    "            \"is_border\": choice(IS_BORDER),\n",
    "            \"is_partial_border\": choice(IS_PARTIAL_BORDER)}"
   ]
  },
  {
   "cell_type": "code",
   "execution_count": 5,
   "metadata": {},
   "outputs": [],
   "source": [
    "def generate_headers_params():\n",
    "    line_style = choice(LINE_STYLE_HEADER)\n",
    "    font_size = choice(FONT_SIZE)\n",
    "    font_style = {\"font_bold\": choice([True, False]),\n",
    "                  \"font_italic\": choice([True, False])}\n",
    "    return {\"line_style\": line_style,\n",
    "            \"font_size\":font_size,\n",
    "            **font_style}"
   ]
  },
  {
   "cell_type": "code",
   "execution_count": 6,
   "metadata": {},
   "outputs": [],
   "source": [
    "def generate_border(line_style, is_border=False, is_partial_border=False):\n",
    "    def define_border(style, color):\n",
    "        return Side(border_style=style, color=color)\n",
    "    def define_border_style(line_style, color=\"FFFFFF\"):\n",
    "        return {\"top\": define_border(line_style, color),\n",
    "                 \"bottom\": define_border(line_style, color),\n",
    "                 \"left\": define_border(line_style, color),\n",
    "                 \"right\": define_border(line_style, color)}\n",
    "    if is_border:\n",
    "        style = define_border_style(line_style, color=\"000000\")\n",
    "        if is_partial_border:\n",
    "            side = choice([\"top\", \"left\"])\n",
    "            style = define_border_style(line_style)\n",
    "            style = {**style, side: define_border(line_style, color=\"000000\")}\n",
    "        return Border(**style)\n",
    "    else:\n",
    "        style = define_border_style(line_style)\n",
    "        return Border(**style)\n"
   ]
  },
  {
   "cell_type": "code",
   "execution_count": 7,
   "metadata": {},
   "outputs": [],
   "source": [
    "def generate_row_params(font_size):\n",
    "    min_row_height = MIN_ROW_HEIGHT + 0.2*(font_size-FONT_SIZE[0])\n",
    "    max_row_height = MAX_ROW_HEIGHT\n",
    "    row_height = np.arange(MIN_ROW_HEIGHT, MAX_ROW_HEIGHT+1, 1)\n",
    "    row_height = row_height[row_height>=min_row_height]\n",
    "    return row_height"
   ]
  },
  {
   "cell_type": "code",
   "execution_count": 8,
   "metadata": {},
   "outputs": [],
   "source": [
    "def generate_column_width(font_size, word_max_length):\n",
    "    min_column_width = MIN_COLUMN_WIDTH + FONT_SIZE_WIDTH*(font_size-FONT_SIZE[0]) + ONE_LETTER_WIDTH*(word_max_length-MIN_WORD_LENGTH)\n",
    "    max_column_width = MAX_COLUMN_WIDTH\n",
    "    column_width = np.arange(min_column_width, max_column_width+1, 1)\n",
    "    return {\"column_width\": column_width}"
   ]
  },
  {
   "cell_type": "code",
   "execution_count": 9,
   "metadata": {},
   "outputs": [],
   "source": [
    "def generate_column_params(column_type):\n",
    "    if choice(IS_CONTENT_FIXED):\n",
    "        min_length = max_length = choice(np.arange(MIN_WORD_LENGTH, MAX_WORD_LENGTH, 1))\n",
    "        round_range = [choice([0,1,2,3,4])]\n",
    "    else:\n",
    "        min_length = MIN_WORD_LENGTH\n",
    "        max_length = MAX_WORD_LENGTH\n",
    "        round_range = [0,1,2,3,4]\n",
    "    if column_type == \"string\" or column_type == \"number\":\n",
    "        return {\"column_type\": column_type,\n",
    "                \"word_type\": choice(WORD_TYPE),\n",
    "                \"number_type\": choice(NUMBER_TYPE),\n",
    "                \"min_length\": min_length,\n",
    "                \"max_length\": max_length,\n",
    "                \"round_range\": round_range}\n",
    "    else:\n",
    "        return {\"column_type\": choice(COLUMN_TYPE),\n",
    "                \"word_type\": choice(WORD_TYPE),\n",
    "                \"number_type\": choice(NUMBER_TYPE),\n",
    "                \"min_length\": min_length,\n",
    "                \"max_length\": max_length,\n",
    "                \"round_range\": round_range}"
   ]
  },
  {
   "cell_type": "code",
   "execution_count": 10,
   "metadata": {},
   "outputs": [],
   "source": [
    "def word_generator(min_length, max_length, word_type):\n",
    "    length = choice(np.arange(min_length, max_length+1, 1))\n",
    "    word = choices('1234567890qwertyuiopasdfghjklzxcvbnm', k=length)\n",
    "    return word_type(\"\".join(word))"
   ]
  },
  {
   "cell_type": "code",
   "execution_count": 11,
   "metadata": {},
   "outputs": [],
   "source": [
    "def number_generator(number_type, round_range):\n",
    "    return round(number_type(random()*choice([1,10,100,1000])), choice(round_range))"
   ]
  },
  {
   "cell_type": "code",
   "execution_count": 13,
   "metadata": {},
   "outputs": [],
   "source": [
    "def generate_blank_col_row_params(rows_number, row_height,\n",
    "                                  columns_width):\n",
    "    blank_row_height = IMG_SHAPE[0] - rows_number*row_height*PIXEL\n",
    "    blank_col_width = IMG_SHAPE[1] - columns_width*PIXEL\n",
    "    return blank_row_height, blank_col_width"
   ]
  },
  {
   "cell_type": "code",
   "execution_count": null,
   "metadata": {},
   "outputs": [],
   "source": []
  },
  {
   "cell_type": "code",
   "execution_count": null,
   "metadata": {},
   "outputs": [],
   "source": []
  },
  {
   "cell_type": "code",
   "execution_count": 12,
   "metadata": {},
   "outputs": [
    {
     "ename": "SyntaxError",
     "evalue": "invalid syntax (<ipython-input-12-c95c29dd43d5>, line 13)",
     "output_type": "error",
     "traceback": [
      "\u001b[1;36m  File \u001b[1;32m\"<ipython-input-12-c95c29dd43d5>\"\u001b[1;36m, line \u001b[1;32m13\u001b[0m\n\u001b[1;33m    for col number:\u001b[0m\n\u001b[1;37m                 ^\u001b[0m\n\u001b[1;31mSyntaxError\u001b[0m\u001b[1;31m:\u001b[0m invalid syntax\n"
     ]
    }
   ],
   "source": [
    "def full_imager(words):\n",
    "    table_params = generate_column_params()\n",
    "    font_size = table_params[\"font_size\"]\n",
    "    font_name = table_params[\"font_name\"]\n",
    "    # dict\n",
    "    row_params = generate_row_params(font_size)\n",
    "    is_partial_border = table_params[\"is_partial_border\"]\n",
    "    is_border = table_params[\"is_border\"]\n",
    "    # obiekt Border\n",
    "    border = generate_border(table_params[\"line_style\"], is_border, is_partial_border)\n",
    "    column_type = table_params[\"columns_type\"]\n",
    "        \n",
    "    for col number:\n",
    "        # dict\n",
    "        column_params = generate_column_params(column_type)\n",
    "        \n",
    "        words = full_lister(..., column_params) # dla kolumny\n",
    "        \n",
    "        word_max_length = maksymalna dl slowa w kolumnie\n",
    "        # dict\n",
    "        column_width = generate_column_width(font_size, word_max_length)\n",
    "        \n",
    "        for row number:\n",
    "            ...\n",
    "            cell.border = Border\n",
    "            ...\n",
    "    if table_params[\"is_different_header\"]:\n",
    "        # dict\n",
    "        header_params = generate_headers_params()\n",
    "        font_size = header_params[\"font_size\"]\n",
    "        font_bold = header_params[\"font_bold\"]\n",
    "        font_italic = header_params[\"font_italic\"]\n",
    "        border = generate_border(header_params[\"line_style\",] is_border=is_border, is_partial_border=is_partial_border)\n",
    "        zmien parametry peirwszego wiersza"
   ]
  },
  {
   "cell_type": "code",
   "execution_count": null,
   "metadata": {},
   "outputs": [],
   "source": []
  },
  {
   "cell_type": "code",
   "execution_count": null,
   "metadata": {},
   "outputs": [],
   "source": []
  },
  {
   "cell_type": "code",
   "execution_count": null,
   "metadata": {},
   "outputs": [],
   "source": []
  }
 ],
 "metadata": {
  "kernelspec": {
   "display_name": "Python 3",
   "language": "python",
   "name": "python3"
  },
  "language_info": {
   "codemirror_mode": {
    "name": "ipython",
    "version": 3
   },
   "file_extension": ".py",
   "mimetype": "text/x-python",
   "name": "python",
   "nbconvert_exporter": "python",
   "pygments_lexer": "ipython3",
   "version": "3.6.9"
  }
 },
 "nbformat": 4,
 "nbformat_minor": 2
}
