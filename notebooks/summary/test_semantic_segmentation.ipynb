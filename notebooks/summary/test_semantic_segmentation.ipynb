{
 "cells": [
  {
   "cell_type": "code",
   "execution_count": null,
   "metadata": {},
   "outputs": [],
   "source": [
    "import os\n",
    "os.chdir(\"../\")"
   ]
  },
  {
   "cell_type": "code",
   "execution_count": null,
   "metadata": {},
   "outputs": [],
   "source": [
    "from pkg.image_generators import generate_images\n",
    "from pkg.models import model_cell_segmentation\n",
    "from pkg.models_utils import train_model\n",
    "from pkg.config import OPTIMIZER, METRICS\n",
    "from pkg.run_model import run_model"
   ]
  },
  {
   "cell_type": "code",
   "execution_count": null,
   "metadata": {},
   "outputs": [],
   "source": [
    "### Define variables\n",
    "\n",
    "INPUT_HEIGHT = 512\n",
    "INPUT_WIDTH = 1024\n",
    "IMG_SIZE = (INPUT_HEIGHT, INPUT_WIDTH)\n",
    "N_CLASSESS = 2\n",
    "BATCH_SIZE = 4\n",
    "EPOCHS = 20\n",
    "STEPS_PER_EPOCH = 1000\n",
    "#OPTIMIZER = optimizers.Adam()\n",
    "LOSS = 'binary_crossentropy'\n",
    "#METRICS = [mean_iou]"
   ]
  },
  {
   "cell_type": "code",
   "execution_count": null,
   "metadata": {},
   "outputs": [],
   "source": [
    "model_path = \"models\"\n",
    "img_train_path = \"datasets/dataset_table_resized/image_table_train_resized\"\n",
    "mask_train_path = \"datasets/dataset_table_resized/mask_binary_cell_train_resized\"\n",
    "img_val_path = \"datasets/dataset_table_resized/image_table_val_resized\"\n",
    "mask_val_path = \"datasets/dataset_table_resized/mask_binary_cell_val_resized\"\n",
    "img_test_path = \"datasets/dataset_table_resized/image_table_test_resized\"\n",
    "mask_test_path = \"datasets/dataset_table_resized/mask_binary_cell_test_resized\""
   ]
  },
  {
   "cell_type": "markdown",
   "metadata": {},
   "source": [
    "### Generate images"
   ]
  },
  {
   "cell_type": "code",
   "execution_count": null,
   "metadata": {},
   "outputs": [],
   "source": [
    "train_generator, val_generator = generate_images(img_train_path,\n",
    "                                                 img_val_path,\n",
    "                                                 mask_train_path,\n",
    "                                                 mask_val_path,\n",
    "                                                 BATCH_SIZE,\n",
    "                                                 IMG_SIZE,\n",
    "                                                 N_CLASSESS,\n",
    "                                                 LOSS)"
   ]
  },
  {
   "cell_type": "markdown",
   "metadata": {},
   "source": [
    "### Define model"
   ]
  },
  {
   "cell_type": "code",
   "execution_count": null,
   "metadata": {},
   "outputs": [],
   "source": [
    "model = model_cell_segmentation(INPUT_HEIGHT, INPUT_WIDTH, N_CLASSESS, verbose=False)"
   ]
  },
  {
   "cell_type": "markdown",
   "metadata": {},
   "source": [
    "### Train model"
   ]
  },
  {
   "cell_type": "code",
   "execution_count": null,
   "metadata": {},
   "outputs": [],
   "source": [
    "history = train_model(model,\n",
    "                      train_generator,\n",
    "                      val_generator,\n",
    "                      optimizer=OPTIMIZER,\n",
    "                      loss=LOSS,\n",
    "                      metrics=METRICS,\n",
    "                      epochs=EPOCHS,\n",
    "                      steps_per_epoch=STEPS_PER_EPOCH)"
   ]
  },
  {
   "cell_type": "markdown",
   "metadata": {},
   "source": [
    "### Show prediction"
   ]
  },
  {
   "cell_type": "code",
   "execution_count": null,
   "metadata": {},
   "outputs": [],
   "source": [
    "make_predictions(model, img_test_path, mask_test_path)"
   ]
  },
  {
   "cell_type": "markdown",
   "metadata": {},
   "source": [
    "### Show prediction from saved model"
   ]
  },
  {
   "cell_type": "code",
   "execution_count": null,
   "metadata": {},
   "outputs": [],
   "source": [
    "img_name = \"5_table.png\"\n",
    "model_name = \"model_table_cells.h5\"\n",
    "img_test_path = os.path.join(img_test_path, img_name)\n",
    "mask_test_path = os.path.join(mask_test_path, img_name)\n",
    "model_path = os.path.join(model_path, model_name)\n",
    "\n",
    "run_model(model_path, img_test_path, mask_test_path)"
   ]
  }
 ],
 "metadata": {
  "kernelspec": {
   "display_name": "Python 3",
   "language": "python",
   "name": "python3"
  },
  "language_info": {
   "codemirror_mode": {
    "name": "ipython",
    "version": 3
   },
   "file_extension": ".py",
   "mimetype": "text/x-python",
   "name": "python",
   "nbconvert_exporter": "python",
   "pygments_lexer": "ipython3",
   "version": "3.6.0"
  }
 },
 "nbformat": 4,
 "nbformat_minor": 2
}
