{
  "nbformat": 4,
  "nbformat_minor": 0,
  "metadata": {
    "colab": {
      "name": "OCR.ipynb",
      "provenance": [],
      "private_outputs": true,
      "collapsed_sections": [],
      "machine_shape": "hm"
    },
    "kernelspec": {
      "name": "python3",
      "display_name": "Python 3"
    },
    "accelerator": "GPU"
  },
  "cells": [
    {
      "cell_type": "code",
      "metadata": {
        "id": "FuDa2xnt0kxk",
        "colab_type": "code",
        "colab": {}
      },
      "source": [
        "!pip install -U tensorflow"
      ],
      "execution_count": 0,
      "outputs": []
    },
    {
      "cell_type": "code",
      "metadata": {
        "id": "073R4EXOqGZk",
        "colab_type": "code",
        "colab": {}
      },
      "source": [
        "from google.colab import files\n",
        "import zipfile\n",
        "import tensorflow as tf\n",
        "import numpy as np\n",
        "from tensorflow import keras\n",
        "import os\n",
        "import tensorflow_datasets as tfds\n",
        "from shutil import copyfile\n",
        "\n",
        "from keras.preprocessing.image import ImageDataGenerator, load_img, img_to_array, array_to_img"
      ],
      "execution_count": 0,
      "outputs": []
    },
    {
      "cell_type": "code",
      "metadata": {
        "id": "VgAluOGoj-xr",
        "colab_type": "code",
        "colab": {}
      },
      "source": [
        "chk = os.listdir('.')\n",
        "print(chk)"
      ],
      "execution_count": 0,
      "outputs": []
    },
    {
      "cell_type": "code",
      "metadata": {
        "id": "dBkWsegyks_y",
        "colab_type": "code",
        "colab": {}
      },
      "source": [
        "!rm 'dataset.zip'"
      ],
      "execution_count": 0,
      "outputs": []
    },
    {
      "cell_type": "code",
      "metadata": {
        "id": "qlMmoZ-PY9hw",
        "colab_type": "code",
        "colab": {}
      },
      "source": [
        "uploaded = files.upload()"
      ],
      "execution_count": 0,
      "outputs": []
    },
    {
      "cell_type": "code",
      "metadata": {
        "id": "OgGQOc1eW-Hf",
        "colab_type": "code",
        "colab": {}
      },
      "source": [
        "zpf = zipfile.ZipFile(\"dataset.zip\")\n",
        "zpf.extractall()\n",
        "zpf.close()"
      ],
      "execution_count": 0,
      "outputs": []
    },
    {
      "cell_type": "code",
      "metadata": {
        "id": "_mzZiyMZNKUD",
        "colab_type": "code",
        "colab": {}
      },
      "source": [
        "!mkdir cells\n",
        "!mkdir texts\n",
        "!mkdir texts/images\n",
        "!mkdir labels\n",
        "!mkdir labels/files"
      ],
      "execution_count": 0,
      "outputs": []
    },
    {
      "cell_type": "code",
      "metadata": {
        "id": "RIzSsfgeloje",
        "colab_type": "code",
        "colab": {}
      },
      "source": [
        "!rm -r cells"
      ],
      "execution_count": 0,
      "outputs": []
    },
    {
      "cell_type": "code",
      "metadata": {
        "id": "-chIj0L5lDCF",
        "colab_type": "code",
        "colab": {}
      },
      "source": [
        "print(os.listdir('dataset'))"
      ],
      "execution_count": 0,
      "outputs": []
    },
    {
      "cell_type": "code",
      "metadata": {
        "id": "oBlRcQHHi-2-",
        "colab_type": "code",
        "colab": {}
      },
      "source": [
        "sets = os.listdir('dataset')\n",
        "for s in sets:\n",
        "  set_dir = 'dataset/' + s\n",
        "  files = os.listdir(set_dir)\n",
        "  for f in files:\n",
        "    if 'cell_' in f:\n",
        "      copyfile(set_dir + '/' + f, 'cells/' + f)"
      ],
      "execution_count": 0,
      "outputs": []
    },
    {
      "cell_type": "code",
      "metadata": {
        "id": "tAqid-EHWtag",
        "colab_type": "code",
        "colab": {}
      },
      "source": [
        "files = os.listdir('cells/')\n",
        "for f in files:\n",
        "  if '.png' in f:\n",
        "    copyfile( 'cells/' + f, 'texts/images/' + f)\n",
        "  else:\n",
        "    copyfile( 'cells/' + f, 'labels/files/' + f)"
      ],
      "execution_count": 0,
      "outputs": []
    },
    {
      "cell_type": "code",
      "metadata": {
        "id": "Kfne6c6nnyDf",
        "colab_type": "code",
        "colab": {}
      },
      "source": [
        "print(os.listdir('labels/files/'))"
      ],
      "execution_count": 0,
      "outputs": []
    },
    {
      "cell_type": "code",
      "metadata": {
        "id": "6ciqwUv-uKIc",
        "colab_type": "code",
        "colab": {}
      },
      "source": [
        "files = os.listdir('labels/files')\n",
        "files.sort()\n",
        "labels = []\n",
        "for f in files:\n",
        "  with open('labels/files/'+f) as opnd:\n",
        "    txt = opnd.read()\n",
        "  txt = txt[1:-1]\n",
        "  labels.append(txt)"
      ],
      "execution_count": 0,
      "outputs": []
    },
    {
      "cell_type": "code",
      "metadata": {
        "id": "hGRseAoZwkej",
        "colab_type": "code",
        "colab": {}
      },
      "source": [
        "# Kopia żywcem z zajęć (z braku czasu). Chodzi tylko o encoder zawarty w 'info'.\n",
        "(train_data, test_data), info = tfds.load(\n",
        "    # Use the version pre-encoded with an ~8k vocabulary.\n",
        "    'imdb_reviews/subwords8k', \n",
        "    # Return the train/test datasets as a tuple.\n",
        "    split = (tfds.Split.TRAIN, tfds.Split.TEST),\n",
        "    # Return (example, label) pairs from the dataset (instead of a dictionary).\n",
        "    as_supervised=True,\n",
        "    # Also return the `info` structure. \n",
        "    with_info=True)"
      ],
      "execution_count": 0,
      "outputs": []
    },
    {
      "cell_type": "code",
      "metadata": {
        "id": "LwysqAg5xIAd",
        "colab_type": "code",
        "colab": {}
      },
      "source": [
        "encoder = info.features['text'].encoder"
      ],
      "execution_count": 0,
      "outputs": []
    },
    {
      "cell_type": "code",
      "metadata": {
        "id": "nLVOaCHBzaFN",
        "colab_type": "code",
        "colab": {}
      },
      "source": [
        "encoded_text = [encoder.encode(w) for w in labels]\n",
        "print(encoded_text)"
      ],
      "execution_count": 0,
      "outputs": []
    },
    {
      "cell_type": "code",
      "metadata": {
        "id": "bPJFaWhU1hsu",
        "colab_type": "code",
        "colab": {}
      },
      "source": [
        "files = os.listdir('texts/images')\n",
        "files.sort()\n",
        "images = []\n",
        "for f in files:\n",
        "  cont = tf.io.read_file('texts/images/'+f);\n",
        "  arr = tf.io.decode_png(cont);\n",
        "  images.append(arr)"
      ],
      "execution_count": 0,
      "outputs": []
    },
    {
      "cell_type": "code",
      "metadata": {
        "id": "ZhaI_n6OH2Et",
        "colab_type": "code",
        "colab": {}
      },
      "source": [
        "# Sprawdziłem że największa długość labels to 9.\n",
        "def pad(t):\n",
        "  l = len(t)\n",
        "  for _ in range(10-l):\n",
        "    t.append(-1)"
      ],
      "execution_count": 0,
      "outputs": []
    },
    {
      "cell_type": "code",
      "metadata": {
        "id": "Th_XY97aKZQG",
        "colab_type": "code",
        "colab": {}
      },
      "source": [
        "def depad_ret(t):\n",
        "  i = 0\n",
        "  l = len(t)\n",
        "  while i < l:\n",
        "    if t[i] < 0:\n",
        "      break\n",
        "    i+=1\n",
        "  return t[:i]"
      ],
      "execution_count": 0,
      "outputs": []
    },
    {
      "cell_type": "code",
      "metadata": {
        "id": "fmFCcyoJ6Kf3",
        "colab_type": "code",
        "colab": {}
      },
      "source": [
        "for t in encoded_text:\n",
        "  pad(t)"
      ],
      "execution_count": 0,
      "outputs": []
    },
    {
      "cell_type": "code",
      "metadata": {
        "id": "XGgQpYPK-Y9-",
        "colab_type": "code",
        "colab": {}
      },
      "source": [
        "print(encoded_text)"
      ],
      "execution_count": 0,
      "outputs": []
    },
    {
      "cell_type": "code",
      "metadata": {
        "id": "Af1KIr0uGDw5",
        "colab_type": "code",
        "colab": {}
      },
      "source": [
        "l = len(images)\n",
        "pairs = [(np.array(images[i]), np.array(encoded_text[i])) for i in range(l)]\n",
        "#pairs = np.array(pairs)"
      ],
      "execution_count": 0,
      "outputs": []
    },
    {
      "cell_type": "code",
      "metadata": {
        "id": "w5gdwJgoGVEh",
        "colab_type": "code",
        "colab": {}
      },
      "source": [
        "print(encoder.decode(depad_ret(pairs[0][1])))"
      ],
      "execution_count": 0,
      "outputs": []
    },
    {
      "cell_type": "code",
      "metadata": {
        "id": "1DqGGmssLQkY",
        "colab_type": "code",
        "colab": {}
      },
      "source": [
        "array_to_img(pairs[0][0])"
      ],
      "execution_count": 0,
      "outputs": []
    },
    {
      "cell_type": "code",
      "metadata": {
        "colab_type": "code",
        "id": "lRwF9-O51km1",
        "colab": {}
      },
      "source": [
        "train_dataset = tf.data.Dataset.from_tensor_slices((pairs[:][0], pairs[:][1]))"
      ],
      "execution_count": 0,
      "outputs": []
    },
    {
      "cell_type": "code",
      "metadata": {
        "id": "ie5JstnwQEWv",
        "colab_type": "code",
        "colab": {}
      },
      "source": [
        "model = keras.Sequential([\n",
        "  keras.layers.Conv2D(filters=32, kernel_size=23, padding='same'),\n",
        "  keras.layers.MaxPooling2D((2, 2)),\n",
        "  keras.layers.Conv2D(filters=32, kernel_size=23, padding='same'),\n",
        "  keras.layers.MaxPooling2D((2, 2)),\n",
        "  keras.layers.Flatten(),\n",
        "  keras.layers.Dense(512),\n",
        "  keras.layers.GRU(512, return_sequences=True, kernel_initializer='he_normal'),\n",
        "  keras.layers.GRU(128, return_sequences=True, kernel_initializer='he_normal'),\n",
        "  keras.layers.GRU(32, return_sequences=True, kernel_initializer='he_normal'),\n",
        "  keras.layers.GRU(10, return_sequences=True, kernel_initializer='he_normal'),\n",
        "])"
      ],
      "execution_count": 0,
      "outputs": []
    },
    {
      "cell_type": "code",
      "metadata": {
        "id": "uxMF9jJaaMTj",
        "colab_type": "code",
        "colab": {}
      },
      "source": [
        "sgd = keras.optimizers.SGD(learning_rate=0.02,\n",
        "  decay=1e-6,\n",
        "  momentum=0.9,\n",
        "  nesterov=True)"
      ],
      "execution_count": 0,
      "outputs": []
    },
    {
      "cell_type": "code",
      "metadata": {
        "id": "aN-LmsJaaBhr",
        "colab_type": "code",
        "colab": {}
      },
      "source": [
        " model.compile(loss='mae', optimizer='adam')"
      ],
      "execution_count": 0,
      "outputs": []
    },
    {
      "cell_type": "code",
      "metadata": {
        "id": "lIuWDzwwbkXh",
        "colab_type": "code",
        "colab": {}
      },
      "source": [
        "his = model.fit(\n",
        "    train_dataset,\n",
        "    steps_per_epoch=10,\n",
        "    epochs=1,\n",
        "    validation_data=train_dataset,\n",
        "    validation_steps=5)"
      ],
      "execution_count": 0,
      "outputs": []
    }
  ]
}