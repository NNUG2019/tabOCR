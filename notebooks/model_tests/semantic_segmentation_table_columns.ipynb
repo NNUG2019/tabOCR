{
  "nbformat": 4,
  "nbformat_minor": 0,
  "metadata": {
    "colab": {
      "name": "semantic_segmentation_dominik_columns.ipynb",
      "provenance": [],
      "collapsed_sections": [],
      "machine_shape": "hm"
    },
    "kernelspec": {
      "name": "python3",
      "display_name": "Python 3"
    },
    "accelerator": "GPU"
  },
  "cells": [
    {
      "cell_type": "code",
      "metadata": {
        "id": "0ZkJRPXWCbhQ",
        "colab_type": "code",
        "outputId": "2897e5c9-08cb-46ae-f210-1f905190f55d",
        "colab": {
          "base_uri": "https://localhost:8080/",
          "height": 83
        }
      },
      "source": [
        "import warnings\n",
        "warnings.filterwarnings(\"ignore\")\n",
        "from keras.layers import Conv2D, MaxPooling2D, Dropout, Input, concatenate, UpSampling2D, Activation, Reshape, Conv2DTranspose, BatchNormalization\n",
        "from keras.models import Model\n",
        "from keras import optimizers\n",
        "from keras.preprocessing.image import ImageDataGenerator\n",
        "from keras.utils import Sequence\n",
        "from keras.callbacks import ModelCheckpoint, ReduceLROnPlateau, EarlyStopping\n",
        "from google.colab import files, drive\n",
        "from skimage.io import imread, imsave\n",
        "from skimage.transform import resize\n",
        "from skimage.color import rgb2gray\n",
        "from matplotlib import pyplot as plt\n",
        "import numpy as np\n",
        "import os\n",
        "import io\n",
        "import zipfile\n",
        "import cv2\n",
        "from matplotlib import pyplot as plt"
      ],
      "execution_count": 0,
      "outputs": [
        {
          "output_type": "stream",
          "text": [
            "Using TensorFlow backend.\n"
          ],
          "name": "stderr"
        },
        {
          "output_type": "display_data",
          "data": {
            "text/html": [
              "<p style=\"color: red;\">\n",
              "The default version of TensorFlow in Colab will soon switch to TensorFlow 2.x.<br>\n",
              "We recommend you <a href=\"https://www.tensorflow.org/guide/migrate\" target=\"_blank\">upgrade</a> now \n",
              "or ensure your notebook will continue to use TensorFlow 1.x via the <code>%tensorflow_version 1.x</code> magic:\n",
              "<a href=\"https://colab.research.google.com/notebooks/tensorflow_version.ipynb\" target=\"_blank\">more info</a>.</p>\n"
            ],
            "text/plain": [
              "<IPython.core.display.HTML object>"
            ]
          },
          "metadata": {
            "tags": []
          }
        }
      ]
    },
    {
      "cell_type": "code",
      "metadata": {
        "id": "3cQ05e8fYiGp",
        "colab_type": "code",
        "colab": {}
      },
      "source": [
        "#drive.mount('/content/gdrive', force_remount=True)\n",
        "#root_path = 'gdrive/My Drive/tabOCR/'"
      ],
      "execution_count": 0,
      "outputs": []
    },
    {
      "cell_type": "code",
      "metadata": {
        "id": "YoWQw4LdgzFc",
        "colab_type": "code",
        "colab": {}
      },
      "source": [
        "#data = zipfile.ZipFile(root_path + \"dataset/tictactoe.zip\", 'r')\n",
        "#data.extractall()"
      ],
      "execution_count": 0,
      "outputs": []
    },
    {
      "cell_type": "code",
      "metadata": {
        "id": "g_1SZNgR9xUx",
        "colab_type": "code",
        "outputId": "78d1070c-9de0-436e-d391-24bafd6a1210",
        "colab": {
          "resources": {
            "http://localhost:8080/nbextensions/google.colab/files.js": {
              "data": "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",
              "ok": true,
              "headers": [
                [
                  "content-type",
                  "application/javascript"
                ]
              ],
              "status": 200,
              "status_text": "OK"
            }
          },
          "base_uri": "https://localhost:8080/",
          "height": 77
        }
      },
      "source": [
        "uploaded = files.upload()\n",
        "data = zipfile.ZipFile(io.BytesIO(uploaded['dataset_columns.zip']), 'r')\n",
        "data.extractall()"
      ],
      "execution_count": 0,
      "outputs": [
        {
          "output_type": "display_data",
          "data": {
            "text/html": [
              "\n",
              "     <input type=\"file\" id=\"files-7bde8f9a-45df-4c06-83ee-2b584ce935d9\" name=\"files[]\" multiple disabled />\n",
              "     <output id=\"result-7bde8f9a-45df-4c06-83ee-2b584ce935d9\">\n",
              "      Upload widget is only available when the cell has been executed in the\n",
              "      current browser session. Please rerun this cell to enable.\n",
              "      </output>\n",
              "      <script src=\"/nbextensions/google.colab/files.js\"></script> "
            ],
            "text/plain": [
              "<IPython.core.display.HTML object>"
            ]
          },
          "metadata": {
            "tags": []
          }
        },
        {
          "output_type": "stream",
          "text": [
            "Saving dataset_columns.zip to dataset_columns (3).zip\n"
          ],
          "name": "stdout"
        }
      ]
    },
    {
      "cell_type": "code",
      "metadata": {
        "id": "pHYlttwbCS0L",
        "colab_type": "code",
        "colab": {}
      },
      "source": [
        "input_height = 512\n",
        "input_width = 512\n",
        "n_classes = 10\n",
        "batch_size = 8\n",
        "loss = 'categorical_crossentropy'\n",
        "# loss = 'sparse_categorical_crossentropy'"
      ],
      "execution_count": 0,
      "outputs": []
    },
    {
      "cell_type": "code",
      "metadata": {
        "id": "F0ZhpW3Y2tyU",
        "colab_type": "code",
        "colab": {}
      },
      "source": [
        "# generator"
      ],
      "execution_count": 0,
      "outputs": []
    },
    {
      "cell_type": "code",
      "metadata": {
        "id": "SXr4CM_nWrHV",
        "colab_type": "code",
        "colab": {}
      },
      "source": [
        "class image_generator(Sequence):\n",
        "\n",
        "    def __init__(self, image_filenames, mask_filenames, batch_size, img_size, n_calsses, loss='categorical_crossentropy', no_reshape=False):\n",
        "        self.image_filenames, self.mask_filenames = image_filenames, mask_filenames\n",
        "        self.batch_size = batch_size\n",
        "        self.height = img_size[0]\n",
        "        self.width = img_size[1]\n",
        "        self.n_calsses = n_calsses\n",
        "        self.no_reshape = no_reshape\n",
        "        self.loss = loss\n",
        "\n",
        "    def __len__(self):\n",
        "        return int(np.ceil(len(self.image_filenames) / float(self.batch_size)))\n",
        "\n",
        "    def resize_image(self, img):\n",
        "      pos = np.where(img!=0)\n",
        "      img = img[pos[0].min():pos[0].max(), pos[1].min():pos[1].max()]\n",
        "      img = cv2.resize(img, (512,512), interpolation=cv2.INTER_NEAREST)\n",
        "      return img\n",
        "\n",
        "    def get_img_array(self, file_name):\n",
        "      img = cv2.imread(file_name, 0)\n",
        "      #img = (cv2.resize(img, (self.width, self.height))/255).astype('float32')\n",
        "      img = (self.resize_image(img)/255).astype('float32')\n",
        "      img[img>=0.8] = 1\n",
        "      img[img<0.8] = 0\n",
        "      return np.expand_dims(img, 2)\n",
        "\n",
        "    def get_segmentation_mask(self, file_name, sparse=False):\n",
        "        img = rgb2gray(cv2.imread(file_name))\n",
        "        img = self.resize_image(img)\n",
        "        # img = cv2.resize(img, (self.width, self.height), interpolation=cv2.INTER_NEAREST)\n",
        "        for label, c in enumerate(np.unique(img)):\n",
        "            img[img==c] = label\n",
        "        if sparse:\n",
        "              img = np.reshape(img, (self.height*self.width))\n",
        "              return np.expand_dims(img,2).astype('uint8')\n",
        "        seg_labels = np.zeros((self.height, self.width, self.n_calsses))\n",
        "        for c in range(self.n_calsses):\n",
        "          seg_labels[:, :, c] = (img == c).astype(int)\n",
        "        if not self.no_reshape:\n",
        "          seg_labels = np.reshape(seg_labels, (self.height*self.width, self.n_calsses))\n",
        "        return seg_labels.astype('bool')\n",
        "  \n",
        "    def __getitem__(self, idx):\n",
        "        batch_x = self.image_filenames[idx * self.batch_size:(idx + 1) * self.batch_size]\n",
        "        batch_y = self.mask_filenames[idx * self.batch_size:(idx + 1) * self.batch_size]\n",
        "\n",
        "        if self.loss == 'categorical_crossentropy':\n",
        "           return (np.array([self.get_img_array(file_name) for file_name in batch_x]),\n",
        "                   np.array([self.get_segmentation_mask(file_name) for file_name in batch_y]))\n",
        "        else:\n",
        "          return (np.array([self.get_img_array(file_name)for file_name in batch_x]),\n",
        "                  np.array([self.get_segmentation_mask(file_name, sparse=True) for file_name in batch_y]))"
      ],
      "execution_count": 0,
      "outputs": []
    },
    {
      "cell_type": "code",
      "metadata": {
        "id": "mMignxGLPhNZ",
        "colab_type": "code",
        "outputId": "69d58377-420b-498f-95b6-20405ea157e3",
        "colab": {
          "base_uri": "https://localhost:8080/",
          "height": 35
        }
      },
      "source": [
        "# from drive\n",
        "'''\n",
        "image_filenames = []\n",
        "mask_filenames = []\n",
        "for path, _, files in os.walk(root_path + \"table_imgs_train\"):\n",
        "    for f in files:\n",
        "        imgs.append(os.path.join(path, f))\n",
        "for path, _, files in os.walk(root_path + \"table_mask_train\"):\n",
        "    for f in files:\n",
        "        masks.append(os.path.join(path, f))\n",
        "train_generator = generator_disk(image_filenames, mask_filenames, batch_size=4, img_size=(input_height, input_width), n_calsses=n_classes, loss=loss)\n",
        "'''\n",
        "\n",
        "# from uploaded\n",
        "image_filenames = list(map(lambda s: \"dataset_columns/img_column_train/\" + s, sorted(os.listdir('dataset_columns/img_column_train'))))\n",
        "mask_filenames = list(map(lambda s: \"dataset_columns/img_mask_column_cells_train/\" + s, sorted(os.listdir('dataset_columns/img_mask_column_cells_train'))))\n",
        "image_filenames_val = list(map(lambda s: \"dataset_columns/img_column_val/\" + s, sorted(os.listdir('dataset_columns/img_column_val'))))\n",
        "mask_filenames_val = list(map(lambda s: \"dataset_columns/img_mask_column_cells_val/\" + s, sorted(os.listdir('dataset_columns/img_mask_column_cells_val'))))\n",
        "train_generator = image_generator(image_filenames, mask_filenames, batch_size=batch_size, img_size=(input_height, input_width), n_calsses=n_classes, loss=loss)\n",
        "val_generator = image_generator(image_filenames_val, mask_filenames_val, batch_size=batch_size, img_size=(input_height, input_width), n_calsses=n_classes, loss=loss)\n",
        "\n",
        "t = train_generator.__getitem__(0)\n",
        "t[0].shape, t[1].shape, t[1].dtype"
      ],
      "execution_count": 0,
      "outputs": [
        {
          "output_type": "execute_result",
          "data": {
            "text/plain": [
              "((8, 512, 512, 1), (8, 262144, 10), dtype('bool'))"
            ]
          },
          "metadata": {
            "tags": []
          },
          "execution_count": 8
        }
      ]
    },
    {
      "cell_type": "code",
      "metadata": {
        "id": "mGIMROr2DIC2",
        "colab_type": "code",
        "colab": {}
      },
      "source": [
        "# model"
      ],
      "execution_count": 0,
      "outputs": []
    },
    {
      "cell_type": "code",
      "metadata": {
        "id": "pMTydN2UCNDj",
        "colab_type": "code",
        "outputId": "04c38ec2-4343-49ff-f01a-aa0cc4fe0233",
        "colab": {
          "base_uri": "https://localhost:8080/",
          "height": 533
        }
      },
      "source": [
        "# model 1\n",
        "'''\n",
        "img_input = Input(shape=(input_height,input_width , 3 ))\n",
        "\n",
        "conv1 = Conv2D(32, (3, 3), activation='relu', padding='same')(img_input)\n",
        "conv1 = Dropout(0.5)(conv1)\n",
        "conv1 = Conv2D(32, (3, 3), activation='relu', padding='same')(conv1)\n",
        "pool1 = MaxPooling2D((4, 4))(conv1)\n",
        "\n",
        "conv2 = Conv2D(64, (3, 3), activation='relu', padding='same')(pool1)\n",
        "conv2 = Dropout(0.5)(conv2)\n",
        "conv2 = Conv2D(64, (3, 3), activation='relu', padding='same')(conv2)\n",
        "\n",
        "pool2 = MaxPooling2D((2, 2))(conv2)\n",
        "conv2 = Conv2D(64, (3, 3), activation='relu', padding='same')(pool1)\n",
        "conv2 = Dropout(0.5)(conv2)\n",
        "conv2 = Conv2D(64, (3, 3), activation='relu', padding='same')(conv2)\n",
        "\n",
        "pool2 = MaxPooling2D((2, 2))(conv2)\n",
        "conv3 = Conv2D(128, (3, 3), activation='relu', padding='same')(pool2)\n",
        "conv3 = Dropout(0.5)(conv3)\n",
        "conv3 = Conv2D(128, (3, 3), activation='relu', padding='same')(conv3)\n",
        "\n",
        "u3 = Conv2DTranspose(128, (2, 2), strides=(2, 2), padding='same') (conv3)\n",
        "up1 = concatenate([u3, conv2], axis=-1)\n",
        "\n",
        "conv4 = Conv2D(64, (3, 3), activation='relu', padding='same')(up1)\n",
        "conv4 = Dropout(0.5)(conv4)\n",
        "conv4 = Conv2D(64, (3, 3), activation='relu', padding='same')(conv4)\n",
        "# pool3 = MaxPooling2D((2, 2))(conv4)\n",
        "conv5 = Conv2D(64, (3, 3), activation='relu', padding='same')(conv4)\n",
        "conv5 = Dropout(0.5)(conv5)\n",
        "conv5 = Conv2D(64, (3, 3), activation='relu', padding='same')(conv5)\n",
        "\n",
        "u4 = Conv2DTranspose(32, (2, 2), strides=(4, 4), padding='same') (conv5)\n",
        "up2 = concatenate([u4, conv1], axis=-1)\n",
        "\n",
        "conv6 = Conv2D(32, (3, 3), activation='relu', padding='same')(up2)\n",
        "conv6 = Dropout(0.5)(conv6)\n",
        "conv6 = Conv2D(32, (3, 3), activation='relu', padding='same')(conv6)\n",
        "\n",
        "out = Conv2D(n_classes, (1, 1) , padding='same')(conv6)\n",
        "\n",
        "out = Reshape((input_height*input_width, -1))(out)\n",
        "out = Activation('softmax')(out)\n",
        "'''\n",
        "\n",
        "\n",
        "# model 2\n",
        "'''\n",
        "img_input = Input(shape=(input_height,input_width , 3 ))\n",
        "\n",
        "conv1 = Conv2D(16, (3, 3), activation='relu', padding='same')(img_input)\n",
        "conv1 = Dropout(0.5)(conv1)\n",
        "conv1 = Conv2D(16, (3, 3), activation='relu', padding='same')(conv1)\n",
        "pool1 = MaxPooling2D((4, 4))(conv1)\n",
        "\n",
        "conv2 = Conv2D(32, (3, 3), activation='relu', padding='same')(pool1)\n",
        "conv2 = Dropout(0.5)(conv2)\n",
        "conv2 = Conv2D(32, (3, 3), activation='relu', padding='same')(conv2)\n",
        "\n",
        "\n",
        "pool2 = MaxPooling2D((2, 2))(conv2)\n",
        "conv3 = Conv2D(64, (3, 3), activation='relu', padding='same')(pool2)\n",
        "conv3 = Dropout(0.5)(conv3)\n",
        "conv3 = Conv2D(64, (3, 3), activation='relu', padding='same')(conv3)\n",
        "\n",
        "u3 = Conv2DTranspose(128, (2, 2), strides=(2, 2), padding='same') (conv3)\n",
        "up1 = concatenate([u3, conv2], axis=-1)\n",
        "\n",
        "conv4 = Conv2D(32, (3, 3), activation='relu', padding='same')(up1)\n",
        "conv4 = Dropout(0.5)(conv4)\n",
        "conv4 = Conv2D(32, (3, 3), activation='relu', padding='same')(conv4)\n",
        "# pool3 = MaxPooling2D((2, 2))(conv4)\n",
        "\n",
        "u4 = Conv2DTranspose(32, (2, 2), strides=(4, 4), padding='same') (conv4)\n",
        "up2 = concatenate([u4, conv1], axis=-1)\n",
        "\n",
        "conv6 = Conv2D(16, (3, 3), activation='relu', padding='same')(up2)\n",
        "conv6 = Dropout(0.5)(conv6)\n",
        "conv6 = Conv2D(16, (3, 3), activation='relu', padding='same')(conv6)\n",
        "\n",
        "out = Conv2D(n_classes, (1, 1) , padding='same')(conv6)\n",
        "\n",
        "out = Reshape((input_height*input_width, -1))(out)\n",
        "out = Activation('softmax')(out)\n",
        "'''\n",
        "\n",
        "\n",
        "# model 3\n",
        "# NO\n",
        "'''\n",
        "img_input = Input(shape=(input_height,input_width , 3 ))\n",
        "\n",
        "conv1 = Conv2D(16, (3, 3), activation='relu', padding='same')(img_input)\n",
        "conv1 = Dropout(0.2)(conv1)\n",
        "conv1 = Conv2D(16, (3, 3), activation='relu', padding='same')(conv1)\n",
        "pool1 = MaxPooling2D((4, 4))(conv1)\n",
        "\n",
        "conv2 = Conv2D(32, (3, 3), activation='relu', padding='same')(pool1)\n",
        "conv2 = Dropout(0.2)(conv2)\n",
        "conv2 = Conv2D(32, (3, 3), activation='relu', padding='same')(conv2)\n",
        "\n",
        "\n",
        "pool2 = MaxPooling2D((2, 2))(conv2)\n",
        "conv3 = Conv2D(64, (3, 3), activation='relu', padding='same')(pool2)\n",
        "conv3 = Dropout(0.2)(conv3)\n",
        "conv3 = Conv2D(64, (3, 3), activation='relu', padding='same')(conv3)\n",
        "\n",
        "u3 = Conv2DTranspose(128, (2, 2), strides=(2, 2), padding='same') (conv3)\n",
        "up1 = concatenate([u3, conv2], axis=-1)\n",
        "\n",
        "conv4 = Conv2D(32, (3, 3), activation='relu', padding='same')(up1)\n",
        "conv4 = Dropout(0.2)(conv4)\n",
        "conv4 = Conv2D(32, (3, 3), activation='relu', padding='same')(conv4)\n",
        "# pool3 = MaxPooling2D((2, 2))(conv4)\n",
        "\n",
        "u4 = Conv2DTranspose(32, (2, 2), strides=(4, 4), padding='same') (conv4)\n",
        "up2 = concatenate([u4, conv1], axis=-1)\n",
        "\n",
        "conv6 = Conv2D(16, (3, 3), activation='relu', padding='same')(up2)\n",
        "conv6 = Dropout(0.2)(conv6)\n",
        "conv6 = Conv2D(16, (3, 3), activation='relu', padding='same')(conv6)\n",
        "\n",
        "out = Conv2D(n_classes, (1, 1) , padding='same')(conv6)\n",
        "\n",
        "out = Reshape((input_height*input_width, -1))(out)\n",
        "out = Activation('softmax')(out)\n",
        "'''\n",
        "\n",
        "\n",
        "# model 4\n",
        "img_input = Input(shape=(input_height,input_width , 1))\n",
        "\n",
        "conv1 = Conv2D(32, (3, 3), activation='relu', padding='same')(img_input)\n",
        "conv1 = Dropout(0.2)(conv1)\n",
        "conv1 = Conv2D(32, (3, 3), padding='same')(conv1)\n",
        "batch1 = BatchNormalization()(conv1)\n",
        "batch1 = Activation('relu')(batch1)\n",
        "pool1 = MaxPooling2D((4, 4))(batch1)\n",
        "\n",
        "conv2 = Conv2D(64, (3, 3), activation='relu', padding='same')(pool1)\n",
        "conv2 = Dropout(0.2)(conv2)\n",
        "conv2 = Conv2D(64, (3, 3), activation='relu', padding='same')(conv2)\n",
        "batch2 = BatchNormalization()(conv2)\n",
        "batch2 = Activation('relu')(batch2)\n",
        "\n",
        "pool2 = MaxPooling2D((2, 2))(conv2)\n",
        "conv3 = Conv2D(128, (3, 3), activation='relu', padding='same')(pool2)\n",
        "conv3 = Dropout(0.2)(conv3)\n",
        "conv3 = Conv2D(128, (3, 3), activation='relu', padding='same')(conv3)\n",
        "\n",
        "u3 = Conv2DTranspose(128, (2, 2), strides=(2, 2), padding='same') (conv3)\n",
        "up1 = concatenate([u3, conv2], axis=-1)\n",
        "\n",
        "conv4 = Conv2D(64, (3, 3), activation='relu', padding='same')(up1)\n",
        "conv4 = Dropout(0.2)(conv4)\n",
        "conv4 = Conv2D(64, (3, 3), activation='relu', padding='same')(conv4)\n",
        "# pool3 = MaxPooling2D((2, 2))(conv4)\n",
        "\n",
        "u4 = Conv2DTranspose(32, (2, 2), strides=(4, 4), padding='same') (conv4)\n",
        "up2 = concatenate([u4, conv1], axis=-1)\n",
        "\n",
        "conv6 = Conv2D(32, (3, 3), activation='relu', padding='same')(up2)\n",
        "conv6 = Dropout(0.2)(conv6)\n",
        "conv6 = Conv2D(32, (3, 3), activation='relu', padding='same')(conv6)\n",
        "\n",
        "out = Conv2D(n_classes, (1, 1) , padding='same')(conv6)\n",
        "\n",
        "out = Reshape((input_height*input_width, -1))(out)\n",
        "out = Activation('softmax')(out)"
      ],
      "execution_count": 0,
      "outputs": [
        {
          "output_type": "stream",
          "text": [
            "WARNING:tensorflow:From /usr/local/lib/python3.6/dist-packages/keras/backend/tensorflow_backend.py:66: The name tf.get_default_graph is deprecated. Please use tf.compat.v1.get_default_graph instead.\n",
            "\n",
            "WARNING:tensorflow:From /usr/local/lib/python3.6/dist-packages/keras/backend/tensorflow_backend.py:541: The name tf.placeholder is deprecated. Please use tf.compat.v1.placeholder instead.\n",
            "\n",
            "WARNING:tensorflow:From /usr/local/lib/python3.6/dist-packages/keras/backend/tensorflow_backend.py:4432: The name tf.random_uniform is deprecated. Please use tf.random.uniform instead.\n",
            "\n",
            "WARNING:tensorflow:From /usr/local/lib/python3.6/dist-packages/keras/backend/tensorflow_backend.py:148: The name tf.placeholder_with_default is deprecated. Please use tf.compat.v1.placeholder_with_default instead.\n",
            "\n",
            "WARNING:tensorflow:From /usr/local/lib/python3.6/dist-packages/keras/backend/tensorflow_backend.py:3733: calling dropout (from tensorflow.python.ops.nn_ops) with keep_prob is deprecated and will be removed in a future version.\n",
            "Instructions for updating:\n",
            "Please use `rate` instead of `keep_prob`. Rate should be set to `rate = 1 - keep_prob`.\n",
            "WARNING:tensorflow:From /usr/local/lib/python3.6/dist-packages/keras/backend/tensorflow_backend.py:190: The name tf.get_default_session is deprecated. Please use tf.compat.v1.get_default_session instead.\n",
            "\n",
            "WARNING:tensorflow:From /usr/local/lib/python3.6/dist-packages/keras/backend/tensorflow_backend.py:197: The name tf.ConfigProto is deprecated. Please use tf.compat.v1.ConfigProto instead.\n",
            "\n",
            "WARNING:tensorflow:From /usr/local/lib/python3.6/dist-packages/keras/backend/tensorflow_backend.py:203: The name tf.Session is deprecated. Please use tf.compat.v1.Session instead.\n",
            "\n",
            "WARNING:tensorflow:From /usr/local/lib/python3.6/dist-packages/keras/backend/tensorflow_backend.py:207: The name tf.global_variables is deprecated. Please use tf.compat.v1.global_variables instead.\n",
            "\n",
            "WARNING:tensorflow:From /usr/local/lib/python3.6/dist-packages/keras/backend/tensorflow_backend.py:216: The name tf.is_variable_initialized is deprecated. Please use tf.compat.v1.is_variable_initialized instead.\n",
            "\n",
            "WARNING:tensorflow:From /usr/local/lib/python3.6/dist-packages/keras/backend/tensorflow_backend.py:223: The name tf.variables_initializer is deprecated. Please use tf.compat.v1.variables_initializer instead.\n",
            "\n",
            "WARNING:tensorflow:From /usr/local/lib/python3.6/dist-packages/keras/backend/tensorflow_backend.py:2041: The name tf.nn.fused_batch_norm is deprecated. Please use tf.compat.v1.nn.fused_batch_norm instead.\n",
            "\n",
            "WARNING:tensorflow:From /usr/local/lib/python3.6/dist-packages/keras/backend/tensorflow_backend.py:4267: The name tf.nn.max_pool is deprecated. Please use tf.nn.max_pool2d instead.\n",
            "\n"
          ],
          "name": "stdout"
        }
      ]
    },
    {
      "cell_type": "code",
      "metadata": {
        "id": "qnVR2gGXDExG",
        "colab_type": "code",
        "outputId": "abfaa55d-4b83-46f6-e7c1-df52ff67965c",
        "colab": {
          "base_uri": "https://localhost:8080/",
          "height": 1000
        }
      },
      "source": [
        "model = Model(img_input, out)\n",
        "# model.compile(optimizer='adadelta', loss=loss,  metrics=['accuracy'])\n",
        "# optimizer = optimizers.Adam(0.1, 0.999, 0.999, False)\n",
        "optimizer = optimizers.Adam()\n",
        "model.compile(optimizer=optimizer, loss=loss, metrics=['accuracy'])\n",
        "model.summary()"
      ],
      "execution_count": 0,
      "outputs": [
        {
          "output_type": "stream",
          "text": [
            "WARNING:tensorflow:From /usr/local/lib/python3.6/dist-packages/keras/optimizers.py:793: The name tf.train.Optimizer is deprecated. Please use tf.compat.v1.train.Optimizer instead.\n",
            "\n",
            "WARNING:tensorflow:From /usr/local/lib/python3.6/dist-packages/keras/backend/tensorflow_backend.py:3576: The name tf.log is deprecated. Please use tf.math.log instead.\n",
            "\n",
            "Model: \"model_1\"\n",
            "__________________________________________________________________________________________________\n",
            "Layer (type)                    Output Shape         Param #     Connected to                     \n",
            "==================================================================================================\n",
            "input_1 (InputLayer)            (None, 512, 512, 1)  0                                            \n",
            "__________________________________________________________________________________________________\n",
            "conv2d_1 (Conv2D)               (None, 512, 512, 32) 320         input_1[0][0]                    \n",
            "__________________________________________________________________________________________________\n",
            "dropout_1 (Dropout)             (None, 512, 512, 32) 0           conv2d_1[0][0]                   \n",
            "__________________________________________________________________________________________________\n",
            "conv2d_2 (Conv2D)               (None, 512, 512, 32) 9248        dropout_1[0][0]                  \n",
            "__________________________________________________________________________________________________\n",
            "batch_normalization_1 (BatchNor (None, 512, 512, 32) 128         conv2d_2[0][0]                   \n",
            "__________________________________________________________________________________________________\n",
            "activation_1 (Activation)       (None, 512, 512, 32) 0           batch_normalization_1[0][0]      \n",
            "__________________________________________________________________________________________________\n",
            "max_pooling2d_1 (MaxPooling2D)  (None, 128, 128, 32) 0           activation_1[0][0]               \n",
            "__________________________________________________________________________________________________\n",
            "conv2d_3 (Conv2D)               (None, 128, 128, 64) 18496       max_pooling2d_1[0][0]            \n",
            "__________________________________________________________________________________________________\n",
            "dropout_2 (Dropout)             (None, 128, 128, 64) 0           conv2d_3[0][0]                   \n",
            "__________________________________________________________________________________________________\n",
            "conv2d_4 (Conv2D)               (None, 128, 128, 64) 36928       dropout_2[0][0]                  \n",
            "__________________________________________________________________________________________________\n",
            "max_pooling2d_2 (MaxPooling2D)  (None, 64, 64, 64)   0           conv2d_4[0][0]                   \n",
            "__________________________________________________________________________________________________\n",
            "conv2d_5 (Conv2D)               (None, 64, 64, 128)  73856       max_pooling2d_2[0][0]            \n",
            "__________________________________________________________________________________________________\n",
            "dropout_3 (Dropout)             (None, 64, 64, 128)  0           conv2d_5[0][0]                   \n",
            "__________________________________________________________________________________________________\n",
            "conv2d_6 (Conv2D)               (None, 64, 64, 128)  147584      dropout_3[0][0]                  \n",
            "__________________________________________________________________________________________________\n",
            "conv2d_transpose_1 (Conv2DTrans (None, 128, 128, 128 65664       conv2d_6[0][0]                   \n",
            "__________________________________________________________________________________________________\n",
            "concatenate_1 (Concatenate)     (None, 128, 128, 192 0           conv2d_transpose_1[0][0]         \n",
            "                                                                 conv2d_4[0][0]                   \n",
            "__________________________________________________________________________________________________\n",
            "conv2d_7 (Conv2D)               (None, 128, 128, 64) 110656      concatenate_1[0][0]              \n",
            "__________________________________________________________________________________________________\n",
            "dropout_4 (Dropout)             (None, 128, 128, 64) 0           conv2d_7[0][0]                   \n",
            "__________________________________________________________________________________________________\n",
            "conv2d_8 (Conv2D)               (None, 128, 128, 64) 36928       dropout_4[0][0]                  \n",
            "__________________________________________________________________________________________________\n",
            "conv2d_transpose_2 (Conv2DTrans (None, 512, 512, 32) 8224        conv2d_8[0][0]                   \n",
            "__________________________________________________________________________________________________\n",
            "concatenate_2 (Concatenate)     (None, 512, 512, 64) 0           conv2d_transpose_2[0][0]         \n",
            "                                                                 conv2d_2[0][0]                   \n",
            "__________________________________________________________________________________________________\n",
            "conv2d_9 (Conv2D)               (None, 512, 512, 32) 18464       concatenate_2[0][0]              \n",
            "__________________________________________________________________________________________________\n",
            "dropout_5 (Dropout)             (None, 512, 512, 32) 0           conv2d_9[0][0]                   \n",
            "__________________________________________________________________________________________________\n",
            "conv2d_10 (Conv2D)              (None, 512, 512, 32) 9248        dropout_5[0][0]                  \n",
            "__________________________________________________________________________________________________\n",
            "conv2d_11 (Conv2D)              (None, 512, 512, 10) 330         conv2d_10[0][0]                  \n",
            "__________________________________________________________________________________________________\n",
            "reshape_1 (Reshape)             (None, 262144, 10)   0           conv2d_11[0][0]                  \n",
            "__________________________________________________________________________________________________\n",
            "activation_3 (Activation)       (None, 262144, 10)   0           reshape_1[0][0]                  \n",
            "==================================================================================================\n",
            "Total params: 536,074\n",
            "Trainable params: 536,010\n",
            "Non-trainable params: 64\n",
            "__________________________________________________________________________________________________\n"
          ],
          "name": "stdout"
        }
      ]
    },
    {
      "cell_type": "code",
      "metadata": {
        "id": "lAgVIoQEbE4b",
        "colab_type": "code",
        "colab": {}
      },
      "source": [
        "# fit generator\n",
        "# filepath = root_path + \"outputs/model_best_dominik_column_3_2_adam.hdf5\"\n",
        "# checkpoint = ModelCheckpoint(filepath, monitor='acc', verbose=1, save_best_only=True, mode='max', period=1)\n",
        "# reduces learning rate on plateau\n",
        "lr_reducer = ReduceLROnPlateau(factor=0.1,\n",
        "                               cooldown=1,\n",
        "                               monitor='val_acc',\n",
        "                               patience=2, verbose=1,\n",
        "                               min_lr=0.1e-7)\n",
        "# stop learining as metric on validatopn stop increasing\n",
        "early_stopping = EarlyStopping(patience=10, verbose=1, mode = 'auto')\n",
        "callbacks_list = [lr_reducer, early_stopping]"
      ],
      "execution_count": 0,
      "outputs": []
    },
    {
      "cell_type": "code",
      "metadata": {
        "id": "WXSBB7W1P8iS",
        "colab_type": "code",
        "colab": {}
      },
      "source": [
        "history = model.fit_generator(train_generator, validation_data=val_generator, epochs=20, steps_per_epoch=375, callbacks=callbacks_list, workers=2, use_multiprocessing=True, verbose=1)"
      ],
      "execution_count": 0,
      "outputs": []
    },
    {
      "cell_type": "code",
      "metadata": {
        "id": "-rNDQMSqcoZ2",
        "colab_type": "code",
        "outputId": "683278d0-4b5f-4819-d67d-aafe6b568ce9",
        "colab": {
          "base_uri": "https://localhost:8080/",
          "height": 365
        }
      },
      "source": [
        "def resize_image(img):\n",
        "      pos = np.where(img!=0)\n",
        "      img = img[pos[0].min():pos[0].max(), pos[1].min():pos[1].max()]\n",
        "      img = cv2.resize(img, (512,512), interpolation=cv2.INTER_NEAREST)\n",
        "      return img\n",
        "\n",
        "def predict(model, file_name_img, file_name_mask, input_height, input_width,\n",
        "            n_classes):\n",
        "    img_test = cv2.imread(file_name_img, 0)\n",
        "    img_mask = cv2.imread(file_name_mask, 0)\n",
        "    img_mask = cv2.resize(img_mask, (input_height, input_width),\n",
        "                          interpolation=cv2.INTER_NEAREST)\n",
        "    img_test = cv2.resize(img_test, (input_height, input_width),\n",
        "                          interpolation=cv2.INTER_NEAREST)\n",
        "    img_test = np.expand_dims(img_test, axis=0)\n",
        "    img_test = np.expand_dims(img_test, axis=3)\n",
        "    img_test[img_test>0.8] = 1\n",
        "    img_test[img_test<=0.8] = 0\n",
        "\n",
        "    mask_pred_raw = model.predict(img_test.astype('float32'))\n",
        "    mask_pred = mask_pred_raw.reshape((input_height, input_width, n_classes)).\\\n",
        "        argmax(axis=2)\n",
        "    print(img_test[0].shape)\n",
        "    plt.figure(figsize=(18, 18))\n",
        "    plt.subplot(1, 3, 1)\n",
        "    plt.imshow(img_test[0][:,:,0])\n",
        "    plt.subplot(1, 3, 2)\n",
        "    plt.imshow(img_mask)\n",
        "    plt.subplot(1, 3, 3)\n",
        "    plt.imshow(mask_pred)\n",
        "    plt.show()\n",
        "    return mask_pred_raw\n",
        "\n",
        "\n",
        "mask_pred_raw = predict(model,\n",
        "                        \"dataset_columns/img_column_val/11025_column_1.png\",\n",
        "                        \"dataset_columns/img_mask_column_cells_val/11025_table_1.png\",\n",
        "                        input_height, input_width, n_classes)"
      ],
      "execution_count": 0,
      "outputs": [
        {
          "output_type": "stream",
          "text": [
            "(512, 512, 1)\n"
          ],
          "name": "stdout"
        },
        {
          "output_type": "display_data",
          "data": {
            "image/png": "[encoded data removed]",
            "text/plain": [
              "<Figure size 1296x1296 with 3 Axes>"
            ]
          },
          "metadata": {
            "tags": []
          }
        }
      ]
    },
    {
      "cell_type": "code",
      "metadata": {
        "id": "f6WXlChafzGQ",
        "colab_type": "code",
        "colab": {}
      },
      "source": [
        "#model.save(root_path + 'outputs/model_dataset_table_simple_1.h5')"
      ],
      "execution_count": 0,
      "outputs": []
    }
  ]
}