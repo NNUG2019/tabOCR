{
 "cells": [
  {
   "cell_type": "markdown",
   "metadata": {},
   "source": [
    "# Generate training dataset of noughts and crosses (Tic-tac-toe) images."
   ]
  },
  {
   "cell_type": "code",
   "execution_count": 1,
   "metadata": {},
   "outputs": [],
   "source": [
    "import numpy as np\n",
    "from skimage.morphology import selem\n",
    "from skimage import measure\n",
    "from PIL import Image\n",
    "from matplotlib import pyplot as plt\n",
    "import random\n",
    "import json"
   ]
  },
  {
   "cell_type": "code",
   "execution_count": 2,
   "metadata": {},
   "outputs": [],
   "source": [
    "def define_table_params(grid_size_range, char_size_range, linewidth_range):\n",
    "    \"\"\" \n",
    "        From predefined range, choose randomly and adjust the following table parameters:\n",
    "        grid size, char size, char position and linewidth.\n",
    "    \"\"\"\n",
    "\n",
    "    grid_size = random.choice(grid_size_range)\n",
    "    linewidth = random.choice(linewidth_range)\n",
    "\n",
    "    if grid_size%3 != 0:\n",
    "        grid_size = (grid_size+1) if (grid_size+1)%3 == 0 else (grid_size+2)\n",
    "    cell_size = int(grid_size/3)\n",
    "\n",
    "    char_size = random.choice(char_size_range[np.where(char_size_range < (cell_size-linewidth))][:-1])\n",
    "\n",
    "    spacing = cell_size-char_size\n",
    "    split_bound = random.randint(2, spacing-2)\n",
    "    first_char_pos = (split_bound, split_bound+char_size)\n",
    "\n",
    "    chars_pos = [((r*cell_size+first_char_pos[0], r*cell_size+first_char_pos[1],\n",
    "                  c*cell_size+first_char_pos[0], c*cell_size+first_char_pos[1]), (r,c))\n",
    "                 for r in range(0,3) for c in range(0,3)]\n",
    "    \n",
    "    return grid_size, char_size, chars_pos, linewidth"
   ]
  },
  {
   "cell_type": "code",
   "execution_count": 3,
   "metadata": {},
   "outputs": [],
   "source": [
    "def create_circle(radius=15, linewidth=2):\n",
    "    \"\"\" Create a nought with a specific radius and linewidth. \"\"\"\n",
    "\n",
    "    circle_large = selem.ellipse(radius, radius)\n",
    "    circle_small = np.pad(selem.ellipse(radius-linewidth, radius-linewidth), linewidth, mode=\"constant\")\n",
    "    return 1 - (circle_large - circle_small)"
   ]
  },
  {
   "cell_type": "code",
   "execution_count": 4,
   "metadata": {},
   "outputs": [],
   "source": [
    "def create_cross(size=31, linewidth=2):\n",
    "    \"\"\" Create a cross with a specific size and linewidth. \"\"\"\n",
    "\n",
    "    cross = np.zeros([size, size])\n",
    "    for i in range(size):\n",
    "        cross[i:i+linewidth, i:i+linewidth] = 1\n",
    "        cross[(size-i-linewidth):(size-i), i:i+linewidth] = 1\n",
    "    return 1 - cross"
   ]
  },
  {
   "cell_type": "code",
   "execution_count": 5,
   "metadata": {},
   "outputs": [],
   "source": [
    "def create_grid(size=120):\n",
    "    \"\"\" Create 3x3 regular grid. \"\"\"\n",
    "\n",
    "    grid = np.ones([size, size])\n",
    "    subgrid_size = int(size/3)\n",
    "    grid[subgrid_size:subgrid_size+1, :] = 0\n",
    "    grid[2*subgrid_size:2*subgrid_size+1, :] = 0\n",
    "    grid[:, subgrid_size:subgrid_size+1] = 0\n",
    "    grid[:, 2*subgrid_size:2*subgrid_size+1] = 0\n",
    "    \n",
    "    return grid"
   ]
  },
  {
   "cell_type": "code",
   "execution_count": 6,
   "metadata": {},
   "outputs": [],
   "source": [
    "def fill_grid(grid, cross, circle, chars_pos, naught_and_cross):\n",
    "    \"\"\" Fill the grid with noughts and crosses. \"\"\"\n",
    "\n",
    "    chars = []\n",
    "    img = grid.copy()\n",
    "    for pos in chars_pos:\n",
    "        char = random.choice([\"x\", \"o\"])\n",
    "        chars.append((char, pos[1]))\n",
    "        obj = naught_and_cross[char]\n",
    "        img[pos[0][0]:pos[0][1], pos[0][2]:pos[0][3]] = obj\n",
    "    \n",
    "    return (255*img).astype(\"uint8\"), chars"
   ]
  },
  {
   "cell_type": "code",
   "execution_count": 7,
   "metadata": {},
   "outputs": [],
   "source": [
    "def generate_images(number, grid_size_range, char_size_range, linewidth_range, save=True, path=\"../example_data/\"):\n",
    "    \"\"\" Generate images of naught and cross grid. \"\"\"\n",
    "    \n",
    "    all_imgs = []\n",
    "    all_chars = []\n",
    "    for i in range(number):\n",
    "        grid_size, char_size, chars_pos, linewidth = define_table_params(grid_size_range, char_size_range, linewidth_range)\n",
    "        cross = create_cross(size=char_size, linewidth=linewidth)\n",
    "        circle = create_circle(radius=int((char_size-1)/2), linewidth=linewidth)\n",
    "        naught_and_cross = {\"x\": cross, \"o\": circle}\n",
    "        grid = create_grid(grid_size)\n",
    "        img, chars = fill_grid(grid, cross, circle, chars_pos, naught_and_cross)\n",
    "        all_imgs.append(img)\n",
    "        all_chars.append(chars)\n",
    "        if save:\n",
    "            Image.fromarray(img).save(path + str(i) + \".png\")\n",
    "            with open(path + str(i) + \".json\", \"w\") as f:\n",
    "                json.dump(chars, f)\n",
    "        # plt.imshow(img, cmap=plt.cm.gray)\n",
    "        # plt.show()\n",
    "        \n",
    "    return all_imgs, all_chars"
   ]
  },
  {
   "cell_type": "markdown",
   "metadata": {},
   "source": [
    "### Set table parameters"
   ]
  },
  {
   "cell_type": "code",
   "execution_count": 8,
   "metadata": {},
   "outputs": [],
   "source": [
    "# grid size\n",
    "grid_size_range = np.arange(90, 230, 3)\n",
    "# char size\n",
    "char_size_range = np.arange(15, 65, 2)\n",
    "# border linewidth\n",
    "linewidth_range = np.arange(1,5,1)"
   ]
  },
  {
   "cell_type": "markdown",
   "metadata": {},
   "source": [
    "### Create learn test"
   ]
  },
  {
   "cell_type": "code",
   "execution_count": 9,
   "metadata": {},
   "outputs": [],
   "source": [
    "imgs, chars = generate_images(3, grid_size_range, char_size_range, linewidth_range, save=True)"
   ]
  },
  {
   "cell_type": "markdown",
   "metadata": {},
   "source": [
    "### Plot example images"
   ]
  },
  {
   "cell_type": "code",
   "execution_count": 10,
   "metadata": {},
   "outputs": [
    {
     "name": "stdout",
     "output_type": "stream",
     "text": [
      "[('o', (0, 0)), ('x', (0, 1)), ('o', (0, 2)), ('x', (1, 0)), ('x', (1, 1)), ('x', (1, 2)), ('x', (2, 0)), ('x', (2, 1)), ('o', (2, 2))]\n"
     ]
    },
    {
     "data": {
      "image/png": "[encoded data removed]",
      "text/plain": [
       "<Figure size 432x288 with 1 Axes>"
      ]
     },
     "metadata": {
      "needs_background": "light"
     },
     "output_type": "display_data"
    },
    {
     "name": "stdout",
     "output_type": "stream",
     "text": [
      "[('x', (0, 0)), ('o', (0, 1)), ('x', (0, 2)), ('x', (1, 0)), ('o', (1, 1)), ('x', (1, 2)), ('o', (2, 0)), ('x', (2, 1)), ('x', (2, 2))]\n"
     ]
    },
    {
     "data": {
      "image/png": "[encoded data removed]",
      "text/plain": [
       "<Figure size 432x288 with 1 Axes>"
      ]
     },
     "metadata": {
      "needs_background": "light"
     },
     "output_type": "display_data"
    },
    {
     "name": "stdout",
     "output_type": "stream",
     "text": [
      "[('o', (0, 0)), ('x', (0, 1)), ('x', (0, 2)), ('o', (1, 0)), ('x', (1, 1)), ('x', (1, 2)), ('x', (2, 0)), ('o', (2, 1)), ('x', (2, 2))]\n"
     ]
    },
    {
     "data": {
      "image/png": "[encoded data removed]",
      "text/plain": [
       "<Figure size 432x288 with 1 Axes>"
      ]
     },
     "metadata": {
      "needs_background": "light"
     },
     "output_type": "display_data"
    }
   ],
   "source": [
    "for img, text in zip(imgs, chars):\n",
    "    plt.imshow(img, cmap=plt.cm.gray)\n",
    "    print(text)\n",
    "    plt.show()"
   ]
  },
  {
   "cell_type": "code",
   "execution_count": null,
   "metadata": {},
   "outputs": [],
   "source": []
  },
  {
   "cell_type": "code",
   "execution_count": null,
   "metadata": {},
   "outputs": [],
   "source": []
  }
 ],
 "metadata": {
  "kernelspec": {
   "display_name": "Python 3",
   "language": "python",
   "name": "python3"
  },
  "language_info": {
   "codemirror_mode": {
    "name": "ipython",
    "version": 3
   },
   "file_extension": ".py",
   "mimetype": "text/x-python",
   "name": "python",
   "nbconvert_exporter": "python",
   "pygments_lexer": "ipython3",
   "version": "3.6.0"
  }
 },
 "nbformat": 4,
 "nbformat_minor": 2
}
